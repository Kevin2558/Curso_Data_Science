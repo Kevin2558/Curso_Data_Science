{
  "nbformat": 4,
  "nbformat_minor": 0,
  "metadata": {
    "colab": {
      "provenance": [],
      "authorship_tag": "ABX9TyPjbNuLgwlnh3wAC9f5KEps",
      "include_colab_link": true
    },
    "kernelspec": {
      "name": "python3",
      "display_name": "Python 3"
    },
    "language_info": {
      "name": "python"
    }
  },
  "cells": [
    {
      "cell_type": "markdown",
      "metadata": {
        "id": "view-in-github",
        "colab_type": "text"
      },
      "source": [
        "<a href=\"https://colab.research.google.com/github/GillValenzuela/curso_data_science/blob/master/DS_Ingemat_Clase_9.ipynb\" target=\"_parent\"><img src=\"https://colab.research.google.com/assets/colab-badge.svg\" alt=\"Open In Colab\"/></a>"
      ]
    },
    {
      "cell_type": "code",
      "execution_count": 1,
      "metadata": {
        "id": "tkYIG4DJtu--"
      },
      "outputs": [],
      "source": [
        "import matplotlib.pyplot as plt\n",
        "import numpy as np\n",
        "from sklearn.decomposition import PCA\n",
        "from sklearn.preprocessing import StandardScaler"
      ]
    },
    {
      "cell_type": "code",
      "source": [
        "np.random.seed(42)\n",
        "mean = [0, 0]\n",
        "cov = [[3, 2], [2, 2]]  # correlación\n",
        "X = np.random.multivariate_normal(mean, cov, 100)"
      ],
      "metadata": {
        "id": "T-jwRL2Yt1tY"
      },
      "execution_count": 2,
      "outputs": []
    },
    {
      "cell_type": "code",
      "source": [
        "X"
      ],
      "metadata": {
        "colab": {
          "base_uri": "https://localhost:8080/"
        },
        "id": "SPl65Y9St7ga",
        "outputId": "2318e8dd-0897-4270-a5ca-5b40d99a4357"
      },
      "execution_count": 3,
      "outputs": [
        {
          "output_type": "execute_result",
          "data": {
            "text/plain": [
              "array([[-0.77984256, -0.72503536],\n",
              "       [-1.7109707 , -0.05642284],\n",
              "       [ 0.48959165,  0.18556848],\n",
              "       [-2.97122622, -1.67515888],\n",
              "       [ 0.56923681,  0.90023901],\n",
              "       [ 0.96991616,  0.36603869],\n",
              "       [ 0.37232934, -1.31659722],\n",
              "       [ 3.13291389,  1.97374029],\n",
              "       [ 1.57697817,  1.49525938],\n",
              "       [ 2.10410746,  0.45639327],\n",
              "       [-2.37531795, -2.04426174],\n",
              "       [ 0.46690187, -0.83235256],\n",
              "       [ 0.87123107,  0.77342021],\n",
              "       [ 1.78452439,  1.70892989],\n",
              "       [ 1.12999928,  0.6372315 ],\n",
              "       [ 0.25813425,  1.75760187],\n",
              "       [ 0.45373603, -0.53429248],\n",
              "       [-0.88720856, -1.71831447],\n",
              "       [ 0.44695249, -1.2973043 ],\n",
              "       [ 2.15569151,  1.84849172],\n",
              "       [-1.31299097, -0.88118978],\n",
              "       [ 0.31738506, -0.0051436 ],\n",
              "       [ 2.78232697,  1.56765052],\n",
              "       [ 0.34467994,  1.15718228],\n",
              "       [ 0.13997584, -1.37180007],\n",
              "       [-0.38865358, -0.62695041],\n",
              "       [ 0.89029624,  1.20897763],\n",
              "       [-2.11511254, -0.86908274],\n",
              "       [ 1.5387695 ,  0.94167265],\n",
              "       [-0.95519174,  0.07374208],\n",
              "       [ 0.88231316,  0.53292141],\n",
              "       [ 2.34989155,  0.82983393],\n",
              "       [-1.92049678, -0.3601322 ],\n",
              "       [-0.28771276,  0.61840581],\n",
              "       [-0.34590537, -0.81202517],\n",
              "       [-1.23513098,  0.32770838],\n",
              "       [-0.57727736,  0.86369698],\n",
              "       [ 4.07524173,  3.87231418],\n",
              "       [-0.0246932 , -0.27046913],\n",
              "       [ 0.6554559 , -1.1579469 ],\n",
              "       [ 0.22428044,  0.47511502],\n",
              "       [-2.27674156, -2.21301311],\n",
              "       [ 1.56550929,  0.80079804],\n",
              "       [-1.67498313, -1.03161099],\n",
              "       [ 0.68266059,  0.96418957],\n",
              "       [-0.55814376,  0.37795113],\n",
              "       [ 1.31538064,  0.75175666],\n",
              "       [ 1.25646613, -0.24844648],\n",
              "       [-0.60487791, -0.25296781],\n",
              "       [ 0.08698547, -0.12915511],\n",
              "       [ 2.55409335,  1.64080127],\n",
              "       [ 0.90386269,  0.03173979],\n",
              "       [ 0.10686402,  0.42287083],\n",
              "       [-3.24640717, -2.38805928],\n",
              "       [-0.40323226, -0.37737455],\n",
              "       [ 3.2409267 ,  2.5081654 ],\n",
              "       [-1.10515806,  1.20643229],\n",
              "       [ 0.20094702,  0.41021775],\n",
              "       [ 0.53466809, -0.56432358],\n",
              "       [-2.23027608, -1.10966512],\n",
              "       [-0.96107617, -1.5143413 ],\n",
              "       [-1.79025939, -2.57545546],\n",
              "       [-1.88053926,  0.37187123],\n",
              "       [ 1.89826613,  1.00638757],\n",
              "       [ 0.0374086 , -0.39375068],\n",
              "       [ 2.58249843,  2.07395204],\n",
              "       [ 1.59532925,  1.64344966],\n",
              "       [ 0.91619479,  2.01740789],\n",
              "       [ 1.44979347,  0.86140799],\n",
              "       [-0.86792765, -1.71167853],\n",
              "       [-0.91557067,  0.38324489],\n",
              "       [ 2.63085217,  2.20921401],\n",
              "       [-0.75608594,  0.06645754],\n",
              "       [ 2.6204059 ,  0.93666556],\n",
              "       [-0.999674  , -0.53103181],\n",
              "       [-0.56286459, -0.14842814],\n",
              "       [ 1.05013315,  1.01503023],\n",
              "       [-0.20227152, -0.7580392 ],\n",
              "       [-3.33399162, -2.20504575],\n",
              "       [ 1.73793553,  1.9084948 ],\n",
              "       [ 1.32007621,  1.69189622],\n",
              "       [-1.61599194, -1.95116491],\n",
              "       [-1.78998608, -1.05081104],\n",
              "       [-2.15682107, -0.0905424 ],\n",
              "       [ 0.72023986, -0.0708503 ],\n",
              "       [ 1.82987825,  0.74338212],\n",
              "       [-0.00922297,  0.27939293],\n",
              "       [-0.80286532,  0.06803952],\n",
              "       [-0.61419905,  0.74152877],\n",
              "       [-0.66292964,  1.76755237],\n",
              "       [-0.70397952, -1.26972915],\n",
              "       [ 1.60616933,  1.65937321],\n",
              "       [ 0.08523129,  0.66636215],\n",
              "       [-0.76698615, -0.6600266 ],\n",
              "       [ 2.04281648,  0.32239424],\n",
              "       [ 0.4026977 ,  1.033858  ],\n",
              "       [ 0.14722278, -0.93156872],\n",
              "       [-0.44855425, -0.02652421],\n",
              "       [ 1.42527202,  1.24195973],\n",
              "       [ 0.36776686, -0.67303964]])"
            ]
          },
          "metadata": {},
          "execution_count": 3
        }
      ]
    },
    {
      "cell_type": "code",
      "source": [
        "scaler = StandardScaler()\n",
        "X_scaled = scaler.fit_transform(X)"
      ],
      "metadata": {
        "id": "db20U-WQt_km"
      },
      "execution_count": 4,
      "outputs": []
    },
    {
      "cell_type": "code",
      "source": [
        "X_scaled"
      ],
      "metadata": {
        "colab": {
          "base_uri": "https://localhost:8080/"
        },
        "id": "1W-uJvjmuDcO",
        "outputId": "760bc088-fb11-4daf-9d5a-4722008b1aeb"
      },
      "execution_count": 5,
      "outputs": [
        {
          "output_type": "execute_result",
          "data": {
            "text/plain": [
              "array([[-0.63909415, -0.73403136],\n",
              "       [-1.25862998, -0.18547969],\n",
              "       [ 0.20553716,  0.01305794],\n",
              "       [-2.09715415, -1.5135439 ],\n",
              "       [ 0.2585299 ,  0.59939711],\n",
              "       [ 0.52512609,  0.16112162],\n",
              "       [ 0.12751546, -1.21936813],\n",
              "       [ 1.96429922,  1.48013282],\n",
              "       [ 0.92904114,  1.08757136],\n",
              "       [ 1.27977212,  0.23525149],\n",
              "       [-1.70066036, -1.81636801],\n",
              "       [ 0.19044028, -0.82207791],\n",
              "       [ 0.45946493,  0.4953508 ],\n",
              "       [ 1.06713418,  1.26287367],\n",
              "       [ 0.63163907,  0.38361711],\n",
              "       [ 0.05153456,  1.30280576],\n",
              "       [ 0.18168025, -0.57753964],\n",
              "       [-0.71053124, -1.54895016],\n",
              "       [ 0.17716675, -1.2035396 ],\n",
              "       [ 1.31409411,  1.37737477],\n",
              "       [-0.99383001, -0.86214557],\n",
              "       [ 0.09095771, -0.14340851],\n",
              "       [ 1.73103255,  1.14696343],\n",
              "       [ 0.10911864,  0.81020181],\n",
              "       [-0.02708337, -1.26465837],\n",
              "       [-0.37881248, -0.65355924],\n",
              "       [ 0.47215015,  0.85269641],\n",
              "       [-1.52752998, -0.85221256],\n",
              "       [ 0.9036186 ,  0.63339063],\n",
              "       [-0.75576456, -0.07868811],\n",
              "       [ 0.46683852,  0.29803769],\n",
              "       [ 1.44330713,  0.54163447],\n",
              "       [-1.39804035, -0.43465282],\n",
              "       [-0.31165045,  0.3681719 ],\n",
              "       [-0.35036951, -0.80540066],\n",
              "       [-0.94202506,  0.12967418],\n",
              "       [-0.50431528,  0.56941683],\n",
              "       [ 2.59128689,  3.03778519],\n",
              "       [-0.13664763, -0.3610903 ],\n",
              "       [ 0.31589667, -1.08920621],\n",
              "       [ 0.02900958,  0.25061143],\n",
              "       [-1.63507154, -1.95481717],\n",
              "       [ 0.9214102 ,  0.51781248],\n",
              "       [-1.23468528, -0.98555607],\n",
              "       [ 0.3339976 ,  0.65186425],\n",
              "       [-0.49158454,  0.17089498],\n",
              "       [ 0.75498449,  0.47757731],\n",
              "       [ 0.71578511, -0.34302219],\n",
              "       [-0.52267959, -0.34673163],\n",
              "       [-0.06234107, -0.24515163],\n",
              "       [ 1.57917493,  1.20697871],\n",
              "       [ 0.48117672, -0.11314817],\n",
              "       [-0.04911467,  0.20774858],\n",
              "       [-2.28024868, -2.0984308 ],\n",
              "       [-0.38851255, -0.44879902],\n",
              "       [ 2.03616667,  1.91859273],\n",
              "       [-0.85554621,  0.85060813],\n",
              "       [ 0.01348444,  0.19736758],\n",
              "       [ 0.23552924, -0.60217814],\n",
              "       [-1.60415524, -1.04959425],\n",
              "       [-0.75967982, -1.38160387],\n",
              "       [-1.31138554, -2.25217678],\n",
              "       [-1.37145419,  0.16590683],\n",
              "       [ 1.14281344,  0.68648488],\n",
              "       [-0.09532755, -0.46223453],\n",
              "       [ 1.59807454,  1.56234982],\n",
              "       [ 0.94125122,  1.20915154],\n",
              "       [ 0.48938201,  1.51595915],\n",
              "       [ 0.84441747,  0.56753887],\n",
              "       [-0.69770248, -1.54350582],\n",
              "       [-0.72940227,  0.17523816],\n",
              "       [ 1.63024721,  1.67332319],\n",
              "       [-0.62328743, -0.08466459],\n",
              "       [ 1.62329668,  0.62928265],\n",
              "       [-0.78536129, -0.57486448],\n",
              "       [-0.49472559, -0.26096386],\n",
              "       [ 0.5784993 ,  0.6935756 ],\n",
              "       [-0.25480123, -0.76110879],\n",
              "       [-2.3385239 , -1.94828049],\n",
              "       [ 1.0361358 ,  1.42660327],\n",
              "       [ 0.75810874,  1.24889869],\n",
              "       [-1.19543487, -1.73998831],\n",
              "       [-1.31120369, -1.00130842],\n",
              "       [-1.55528118, -0.2134725 ],\n",
              "       [ 0.35900136, -0.19731645],\n",
              "       [ 1.09731085,  0.47070656],\n",
              "       [-0.12635436,  0.0900346 ],\n",
              "       [-0.65441258, -0.08336668],\n",
              "       [-0.52888151,  0.46918602],\n",
              "       [-0.56130492,  1.31096948],\n",
              "       [-0.58861788, -1.18091604],\n",
              "       [ 0.94846378,  1.22221574],\n",
              "       [-0.06350823,  0.40751685],\n",
              "       [-0.63054   , -0.68069604],\n",
              "       [ 1.23899153,  0.12531429],\n",
              "       [ 0.14772136,  0.70902251],\n",
              "       [-0.02226154, -0.90347811],\n",
              "       [-0.41866801, -0.16094987],\n",
              "       [ 0.82810187,  0.87975601],\n",
              "       [ 0.12447977, -0.69137236]])"
            ]
          },
          "metadata": {},
          "execution_count": 5
        }
      ]
    },
    {
      "cell_type": "code",
      "source": [
        "pca = PCA(n_components=2)"
      ],
      "metadata": {
        "id": "jbEQQiAruJGd"
      },
      "execution_count": 6,
      "outputs": []
    },
    {
      "cell_type": "code",
      "source": [
        "X_pca = pca.fit_transform(X_scaled)"
      ],
      "metadata": {
        "id": "9GakcyOjuOZC"
      },
      "execution_count": 7,
      "outputs": []
    },
    {
      "cell_type": "code",
      "source": [
        "X_pca"
      ],
      "metadata": {
        "colab": {
          "base_uri": "https://localhost:8080/"
        },
        "id": "Y9C6kWeAuVik",
        "outputId": "aaf69cbd-d004-4e9e-8538-4c559ecdb1c8"
      },
      "execution_count": 8,
      "outputs": [
        {
          "output_type": "execute_result",
          "data": {
            "text/plain": [
              "array([[-9.70946359e-01,  6.71307474e-02],\n",
              "       [-1.02113974e+00, -7.58831849e-01],\n",
              "       [ 1.54570075e-01,  1.36103364e-01],\n",
              "       [-2.55314908e+00, -4.12674767e-01],\n",
              "       [ 6.06646010e-01, -2.41029518e-01],\n",
              "       [ 4.85250413e-01,  2.57390027e-01],\n",
              "       [-7.72056430e-01,  9.52390523e-01],\n",
              "       [ 2.43558125e+00,  3.42357345e-01],\n",
              "       [ 1.42596037e+00, -1.12097797e-01],\n",
              "       [ 1.07128347e+00,  7.38587620e-01],\n",
              "       [-2.48691461e+00,  8.18176618e-02],\n",
              "       [-4.46635256e-01,  7.15958478e-01],\n",
              "       [ 6.75156678e-01, -2.53751382e-02],\n",
              "       [ 1.64756435e+00, -1.38408718e-01],\n",
              "       [ 7.17894528e-01,  1.75378007e-01],\n",
              "       [ 9.57663225e-01, -8.84782349e-01],\n",
              "       [-2.79914857e-01,  5.36849535e-01],\n",
              "       [-1.59769462e+00,  5.92851708e-01],\n",
              "       [-7.25755198e-01,  9.76306821e-01],\n",
              "       [ 1.90315590e+00, -4.47461888e-02],\n",
              "       [-1.31237292e+00, -9.31149597e-02],\n",
              "       [-3.70883220e-02,  1.65721943e-01],\n",
              "       [ 2.03505048e+00,  4.12999236e-01],\n",
              "       [ 6.50057725e-01, -4.95740664e-01],\n",
              "       [-9.13399346e-01,  8.75097674e-01],\n",
              "       [-7.29997044e-01,  1.94275300e-01],\n",
              "       [ 9.36807985e-01, -2.69086845e-01],\n",
              "       [-1.68273209e+00, -4.77521525e-01],\n",
              "       [ 1.08682965e+00,  1.91080036e-01],\n",
              "       [-5.90047143e-01, -4.78765345e-01],\n",
              "       [ 5.40849154e-01,  1.19360207e-01],\n",
              "       [ 1.40356566e+00,  6.37578855e-01],\n",
              "       [-1.29590977e+00, -6.81217853e-01],\n",
              "       [ 3.99666982e-02, -4.80706989e-01],\n",
              "       [-8.17252924e-01,  3.21755613e-01],\n",
              "       [-5.74418814e-01, -7.57805796e-01],\n",
              "       [ 4.60337458e-02, -7.59243252e-01],\n",
              "       [ 3.98035504e+00, -3.15721973e-01],\n",
              "       [-3.51953867e-01,  1.58704931e-01],\n",
              "       [-5.46812417e-01,  9.93557773e-01],\n",
              "       [ 1.97721910e-01, -1.56696171e-01],\n",
              "       [-2.53843465e+00,  2.26094309e-01],\n",
              "       [ 1.01768411e+00,  2.85386686e-01],\n",
              "       [-1.56994771e+00, -1.76160951e-01],\n",
              "       [ 6.97109600e-01, -2.24765666e-01],\n",
              "       [-2.26761763e-01, -4.68443759e-01],\n",
              "       [ 8.71552808e-01,  1.96156496e-01],\n",
              "       [ 2.63583185e-01,  7.48689822e-01],\n",
              "       [-6.14766571e-01, -1.24413992e-01],\n",
              "       [-2.17430175e-01,  1.29266590e-01],\n",
              "       [ 1.97010813e+00,  2.63182472e-01],\n",
              "       [ 2.60235481e-01,  4.20251164e-01],\n",
              "       [ 1.12171113e-01, -1.81629743e-01],\n",
              "       [-3.09619395e+00, -1.28564653e-01],\n",
              "       [-5.92068689e-01,  4.26289675e-02],\n",
              "       [ 2.79643719e+00,  8.31373337e-02],\n",
              "       [-3.49174964e-03, -1.20643331e+00],\n",
              "       [ 1.49094893e-01, -1.30025011e-01],\n",
              "       [-2.59259921e-01,  5.92348572e-01],\n",
              "       [-1.87648426e+00, -3.92133841e-01],\n",
              "       [-1.51411622e+00,  4.39766713e-01],\n",
              "       [-2.51981908e+00,  6.65239867e-01],\n",
              "       [-8.52450717e-01, -1.08707840e+00],\n",
              "       [ 1.29350924e+00,  3.22673019e-01],\n",
              "       [-3.94255930e-01,  2.59442412e-01],\n",
              "       [ 2.23475750e+00,  2.52611918e-02],\n",
              "       [ 1.52056438e+00, -1.89434129e-01],\n",
              "       [ 1.41799033e+00, -7.25899652e-01],\n",
              "       [ 9.98403902e-01,  1.95782740e-01],\n",
              "       [-1.58477359e+00,  5.98073272e-01],\n",
              "       [-3.91853200e-01, -6.39677380e-01],\n",
              "       [ 2.33597703e+00, -3.04593130e-02],\n",
              "       [-5.00597678e-01, -3.80863862e-01],\n",
              "       [ 1.59281412e+00,  7.02874061e-01],\n",
              "       [-9.61824865e-01, -1.48843728e-01],\n",
              "       [-5.34353135e-01, -1.65294507e-01],\n",
              "       [ 8.99492790e-01, -8.13712294e-02],\n",
              "       [-7.18356866e-01,  3.58013513e-01],\n",
              "       [-3.03122846e+00, -2.75943767e-01],\n",
              "       [ 1.74141950e+00, -2.76102199e-01],\n",
              "       [ 1.41916856e+00, -3.47040900e-01],\n",
              "       [-2.07565764e+00,  3.85057432e-01],\n",
              "       [-1.63519300e+00, -2.19129044e-01],\n",
              "       [-1.25069772e+00, -9.48802023e-01],\n",
              "       [ 1.14328492e-01,  3.93376097e-01],\n",
              "       [ 1.10875575e+00,  4.43076141e-01],\n",
              "       [-2.56819465e-02, -1.53010097e-01],\n",
              "       [-5.21688718e-01, -4.03790429e-01],\n",
              "       [-4.22110867e-02, -7.05740314e-01],\n",
              "       [ 5.30092893e-01, -1.32389792e+00],\n",
              "       [-1.25124943e+00,  4.18818040e-01],\n",
              "       [ 1.53490221e+00, -1.93571866e-01],\n",
              "       [ 2.43250832e-01, -3.33065025e-01],\n",
              "       [-9.27183893e-01,  3.54656737e-02],\n",
              "       [ 9.64709891e-01,  7.87488729e-01],\n",
              "       [ 6.05809405e-01, -3.96899851e-01],\n",
              "       [-6.54596785e-01,  6.23114210e-01],\n",
              "       [-4.09851736e-01, -1.82234241e-01],\n",
              "       [ 1.20763788e+00, -3.65249949e-02],\n",
              "       [-4.00853600e-01,  5.76894574e-01]])"
            ]
          },
          "metadata": {},
          "execution_count": 8
        }
      ]
    },
    {
      "cell_type": "code",
      "source": [
        "components = pca.components_"
      ],
      "metadata": {
        "id": "g_r3excFuYO3"
      },
      "execution_count": 9,
      "outputs": []
    },
    {
      "cell_type": "code",
      "source": [
        "components"
      ],
      "metadata": {
        "colab": {
          "base_uri": "https://localhost:8080/"
        },
        "id": "QZJZzvFRuddx",
        "outputId": "a8563bee-1b58-426d-e2b9-c9215f98dc5b"
      },
      "execution_count": 10,
      "outputs": [
        {
          "output_type": "execute_result",
          "data": {
            "text/plain": [
              "array([[ 0.70710678,  0.70710678],\n",
              "       [ 0.70710678, -0.70710678]])"
            ]
          },
          "metadata": {},
          "execution_count": 10
        }
      ]
    },
    {
      "cell_type": "code",
      "source": [
        "explained_var = pca.explained_variance_ratio_"
      ],
      "metadata": {
        "id": "9DfLbmSpugxz"
      },
      "execution_count": 11,
      "outputs": []
    },
    {
      "cell_type": "code",
      "source": [
        "explained_var"
      ],
      "metadata": {
        "colab": {
          "base_uri": "https://localhost:8080/"
        },
        "id": "uOCJC1vruiek",
        "outputId": "55ffcb88-a655-4570-a58e-b2d41bd55d07"
      },
      "execution_count": 12,
      "outputs": [
        {
          "output_type": "execute_result",
          "data": {
            "text/plain": [
              "array([0.87851892, 0.12148108])"
            ]
          },
          "metadata": {},
          "execution_count": 12
        }
      ]
    },
    {
      "cell_type": "code",
      "source": [
        "plt.figure(figsize=(8, 6))\n",
        "plt.scatter(X_scaled[:, 0], X_scaled[:, 1], alpha=0.5, label='Datos estandarizados')\n",
        "origin = np.mean(X_scaled, axis=0)\n",
        "for i in range(2):\n",
        "    plt.quiver(*origin, components[i, 0], components[i, 1],\n",
        "               angles='xy', scale_units='xy', scale=1.5, color='r',\n",
        "               label=f'PC{i+1} ({explained_var[i]*100:.1f}%)')\n",
        "\n",
        "plt.title(\"Proyección PCA en 2D\")\n",
        "plt.xlabel(\"Eje 1 (original)\")\n",
        "plt.ylabel(\"Eje 2 (original)\")\n",
        "plt.axis('equal')\n",
        "plt.grid(True)\n",
        "plt.legend()\n",
        "plt.tight_layout()"
      ],
      "metadata": {
        "colab": {
          "base_uri": "https://localhost:8080/",
          "height": 607
        },
        "id": "8NJX0SuKulsF",
        "outputId": "3b8752d1-0827-4056-9501-b182ab949ae5"
      },
      "execution_count": 16,
      "outputs": [
        {
          "output_type": "display_data",
          "data": {
            "text/plain": [
              "<Figure size 800x600 with 1 Axes>"
            ],
            "image/png": "[encoded data removed]"
          },
          "metadata": {}
        }
      ]
    },
    {
      "cell_type": "code",
      "source": [],
      "metadata": {
        "colab": {
          "base_uri": "https://localhost:8080/",
          "height": 487
        },
        "id": "o745hEHKuzTK",
        "outputId": "ff2673fa-2c21-42a6-8f32-cccea66501b2"
      },
      "execution_count": 15,
      "outputs": [
        {
          "output_type": "display_data",
          "data": {
            "text/plain": [
              "<Figure size 640x480 with 1 Axes>"
            ],
            "image/png": "[encoded data removed]"
          },
          "metadata": {}
        }
      ]
    }
  ]
}